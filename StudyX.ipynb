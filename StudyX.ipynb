{
 "cells": [
  {
   "cell_type": "code",
   "id": "initial_id",
   "metadata": {
    "collapsed": true,
    "ExecuteTime": {
     "end_time": "2024-05-06T02:48:38.328250Z",
     "start_time": "2024-05-06T02:48:38.325671Z"
    }
   },
   "source": [
    "x = 10000000\n",
    "y = 10000000\n",
    "id(x), id(y)"
   ],
   "outputs": [
    {
     "data": {
      "text/plain": [
       "(5292328688, 5292328464)"
      ]
     },
     "execution_count": 3,
     "metadata": {},
     "output_type": "execute_result"
    }
   ],
   "execution_count": 3
  },
  {
   "metadata": {
    "ExecuteTime": {
     "end_time": "2024-05-06T02:58:09.358828Z",
     "start_time": "2024-05-06T02:58:09.355605Z"
    }
   },
   "cell_type": "code",
   "source": [
    "mystr = \"Hello World\"\n",
    "print(id(mystr))\n",
    "print(mystr[6:11])\n",
    "print(mystr[:5])\n",
    "\n",
    "mystr[6:-1]\n",
    "\n",
    "mystr.split(' ')[0]\n"
   ],
   "id": "b7aad908feacd561",
   "outputs": [
    {
     "name": "stdout",
     "output_type": "stream",
     "text": [
      "5294916208\n",
      "World\n",
      "Hello\n"
     ]
    },
    {
     "data": {
      "text/plain": [
       "'Hello'"
      ]
     },
     "execution_count": 9,
     "metadata": {},
     "output_type": "execute_result"
    }
   ],
   "execution_count": 9
  },
  {
   "metadata": {
    "ExecuteTime": {
     "end_time": "2024-05-06T03:21:34.559092Z",
     "start_time": "2024-05-06T03:21:34.555611Z"
    }
   },
   "cell_type": "code",
   "source": [
    "type(3.14)\n",
    "mystock = ['Naver', 5000]\n",
    "type(mystock[0])\n",
    "daishin = [1,2,3,4,5]\n",
    "daishin[-1]\n",
    "daishin[:3]\n",
    "\n",
    "daishin.insert(3, 1)\n",
    "del daishin[3]\n",
    "daishin"
   ],
   "id": "37f36fc736b284c5",
   "outputs": [
    {
     "data": {
      "text/plain": [
       "[1, 2, 3, 4, 5]"
      ]
     },
     "execution_count": 21,
     "metadata": {},
     "output_type": "execute_result"
    }
   ],
   "execution_count": 21
  },
  {
   "metadata": {
    "ExecuteTime": {
     "end_time": "2024-05-06T03:38:30.489404Z",
     "start_time": "2024-05-06T03:38:30.484743Z"
    }
   },
   "cell_type": "code",
   "source": [
    "cur_price = {}\n",
    "cur_price['daishin'] = 3000\n",
    "cur_price['samsung'] = 80000\n",
    "cur_price\n",
    "len(cur_price)\n",
    "for key in cur_price.keys():\n",
    "    print(key + ':' + str(cur_price[key])) \n",
    "    \n",
    "\n"
   ],
   "id": "7d4139e6cf97f790",
   "outputs": [
    {
     "name": "stdout",
     "output_type": "stream",
     "text": [
      "daishin:3000\n",
      "samsung:80000\n"
     ]
    }
   ],
   "execution_count": 25
  },
  {
   "metadata": {
    "ExecuteTime": {
     "end_time": "2024-05-06T03:43:56.326021Z",
     "start_time": "2024-05-06T03:43:56.320898Z"
    }
   },
   "cell_type": "code",
   "source": [
    "a = 3000\n",
    "if a == 300 :\n",
    "    print(a)\n",
    "else :\n",
    "    if a > 3000 :\n",
    "        print(\"larger than 3000\")\n",
    "    else :\n",
    "        print(\"same or lower than 3000\")\n",
    "        \n",
    "        \n",
    "if a > 300 and a < 3000:\n",
    "    print('value is smaller than 3000')\n",
    "elif a == 3000:\n",
    "    print('value is equal to 3000')\n",
    "elif a > 3000:\n",
    "    print('value is greater than 3000')\n",
    "            "
   ],
   "id": "15844aca737deb44",
   "outputs": [
    {
     "name": "stdout",
     "output_type": "stream",
     "text": [
      "same or lower than 3000\n",
      "value is equal to 3000\n"
     ]
    }
   ],
   "execution_count": 28
  },
  {
   "metadata": {
    "ExecuteTime": {
     "end_time": "2024-05-06T03:54:40.441210Z",
     "start_time": "2024-05-06T03:54:40.438517Z"
    }
   },
   "cell_type": "code",
   "source": [
    "type(range(1,10))\n",
    "type(list(range(1,10)))\n",
    "\n",
    "interest_stocks = {\"Naver\":10, \"Apple\":20, \"Orange\":3, \"Banana\":4}\n",
    "for company, stock_num in interest_stocks.items():\n",
    "    print(\"%s: Buy %s\" % (company, stock_num))"
   ],
   "id": "3d99c795edb47f08",
   "outputs": [
    {
     "name": "stdout",
     "output_type": "stream",
     "text": [
      "Naver: Buy 10\n",
      "Apple: Buy 20\n",
      "Orange: Buy 3\n",
      "Banana: Buy 4\n"
     ]
    }
   ],
   "execution_count": 32
  },
  {
   "metadata": {
    "ExecuteTime": {
     "end_time": "2024-05-06T04:01:25.293907Z",
     "start_time": "2024-05-06T04:01:25.289626Z"
    }
   },
   "cell_type": "code",
   "source": [
    "num = 0\n",
    "while 1:\n",
    "    print(num)\n",
    "    if num == 10:\n",
    "        break\n",
    "    num += 1"
   ],
   "id": "edc0eb8758cc8dc8",
   "outputs": [
    {
     "name": "stdout",
     "output_type": "stream",
     "text": [
      "0\n",
      "1\n",
      "2\n",
      "3\n",
      "4\n",
      "5\n",
      "6\n",
      "7\n",
      "8\n",
      "9\n",
      "10\n"
     ]
    }
   ],
   "execution_count": 33
  },
  {
   "metadata": {
    "ExecuteTime": {
     "end_time": "2024-05-06T04:37:56.496068Z",
     "start_time": "2024-05-06T04:37:56.493504Z"
    }
   },
   "cell_type": "code",
   "source": [
    "import time\n",
    "\n",
    "time.time()\n",
    "time.ctime()\n",
    "\n",
    "type(_)\n",
    "\n",
    "time.daylight\n",
    "\n",
    "import random\n",
    "random"
   ],
   "id": "39e4ef9a0629b62f",
   "outputs": [
    {
     "data": {
      "text/plain": [
       "<module 'random' from '/Library/Developer/CommandLineTools/Library/Frameworks/Python3.framework/Versions/3.8/lib/python3.8/random.py'>"
      ]
     },
     "execution_count": 40,
     "metadata": {},
     "output_type": "execute_result"
    }
   ],
   "execution_count": 40
  },
  {
   "metadata": {
    "ExecuteTime": {
     "end_time": "2024-05-06T04:41:42.549093Z",
     "start_time": "2024-05-06T04:41:42.546772Z"
    }
   },
   "cell_type": "code",
   "source": [
    "for i, stock in enumerate(range(1,10)):\n",
    "    print(i, stock)"
   ],
   "id": "b98b43caec5893af",
   "outputs": [
    {
     "name": "stdout",
     "output_type": "stream",
     "text": [
      "0 1\n",
      "1 2\n",
      "2 3\n",
      "3 4\n",
      "4 5\n",
      "5 6\n",
      "6 7\n",
      "7 8\n",
      "8 9\n"
     ]
    }
   ],
   "execution_count": 42
  },
  {
   "metadata": {
    "ExecuteTime": {
     "end_time": "2024-05-06T05:15:10.609888Z",
     "start_time": "2024-05-06T05:15:10.606815Z"
    }
   },
   "cell_type": "code",
   "source": [
    "class BizCard:\n",
    "    def __init__(self, name, email, addr):\n",
    "        self.name = name\n",
    "        self.email = email\n",
    "        self.addr = addr\n",
    "    def print_info(self):\n",
    "        print(\"-------------------------\")\n",
    "        print(\"Name: \" + self.name)\n",
    "        print(\"Email: \" + self.email)\n",
    "        print(\"Address: \" + self.addr)\n",
    "        print(\"--------------------------\")\n",
    "        \n",
    "member1 = BizCard(\"jeff\", \"being20c@naver.com\", \"ROKAF\")\n",
    "member1.print_info()\n",
    "\n",
    "member2 = BizCard(\"jeff2\", \"being20c@naver.com\", \"ROKAF\")\n",
    "member2.print_info()\n",
    "\n",
    "BizCard.print_info(member2)\n"
   ],
   "id": "208d30d7c479de8d",
   "outputs": [
    {
     "name": "stdout",
     "output_type": "stream",
     "text": [
      "-------------------------\n",
      "Name: jeff\n",
      "Email: being20c@naver.com\n",
      "Address: ROKAF\n",
      "--------------------------\n",
      "-------------------------\n",
      "Name: jeff2\n",
      "Email: being20c@naver.com\n",
      "Address: ROKAF\n",
      "--------------------------\n",
      "-------------------------\n",
      "Name: jeff2\n",
      "Email: being20c@naver.com\n",
      "Address: ROKAF\n",
      "--------------------------\n"
     ]
    }
   ],
   "execution_count": 46
  },
  {
   "metadata": {
    "ExecuteTime": {
     "end_time": "2024-05-06T05:22:50.292337Z",
     "start_time": "2024-05-06T05:22:50.289392Z"
    }
   },
   "cell_type": "code",
   "source": [
    "class Stock:\n",
    "    market = \"kospi\"\n",
    "    \n",
    "m1 = Stock()\n",
    "m1.market = \"kosdaq\"\n",
    "\n",
    "m2 = Stock()\n",
    "\n",
    "#m1.market\n",
    "m2.market\n",
    "#m2.__dict__"
   ],
   "id": "4df78943419147be",
   "outputs": [
    {
     "data": {
      "text/plain": [
       "'kospi'"
      ]
     },
     "execution_count": 53,
     "metadata": {},
     "output_type": "execute_result"
    }
   ],
   "execution_count": 53
  },
  {
   "metadata": {
    "ExecuteTime": {
     "end_time": "2024-05-06T05:32:44.669923Z",
     "start_time": "2024-05-06T05:32:44.667290Z"
    }
   },
   "cell_type": "code",
   "source": [
    "class Parent:\n",
    "    def can_sing(self):\n",
    "        print(\"Sing a song\")\n",
    "        \n",
    "class LuckyChild(Parent):\n",
    "    pass\n",
    "\n",
    "l1 = LuckyChild()\n",
    "l1.can_sing()"
   ],
   "id": "ea6cb05bc2086e0c",
   "outputs": [
    {
     "name": "stdout",
     "output_type": "stream",
     "text": [
      "Sing a song\n"
     ]
    }
   ],
   "execution_count": 55
  },
  {
   "metadata": {
    "ExecuteTime": {
     "end_time": "2024-05-06T05:39:52.706449Z",
     "start_time": "2024-05-06T05:39:52.702785Z"
    }
   },
   "cell_type": "code",
   "source": [
    "import time\n",
    "f = open('res/sample.txt', 'rt')\n",
    "fw = open('res/re_' + time.ctime() + '.txt', 'wt')\n",
    "lines = f.readlines()\n",
    "for line in lines:\n",
    "    print(line, end=\"\")\n",
    "    fw.write(line)\n",
    "    \n",
    "fw.close()\n",
    "    "
   ],
   "id": "33f17a2236e70400",
   "outputs": [
    {
     "name": "stdout",
     "output_type": "stream",
     "text": [
      "컴퓨터에 저장된 워드 파일을 읽을 때를 생각해봅시다.\n",
      "보통 워드 프로그램을 실행한 후 열기 메뉴를 이용해 워드 파일을 엽니다.\n",
      "파일이 열린 후에는 해당 문서를 읽을 수 있습니다.\n",
      "문서를 다 읽은 경우에는 역시 닫기 메뉴를 이용해 해당 문서를 닫습니다.\n",
      "파이썬에서 파일을 읽고 쓰는 것도 이와 같습니다.\n",
      "파일을 읽거나 쓰려면 파일을 먼저 열어야 합니다."
     ]
    }
   ],
   "execution_count": 62
  },
  {
   "metadata": {
    "ExecuteTime": {
     "end_time": "2024-05-06T06:12:11.634819Z",
     "start_time": "2024-05-06T06:12:11.623984Z"
    }
   },
   "cell_type": "code",
   "source": [
    "from pandas import DataFrame, Series\n",
    "kakao = Series([9600, 9240,222,111,223])\n",
    "print(kakao)\n"
   ],
   "id": "ca4a3ff7e115d225",
   "outputs": [
    {
     "name": "stdout",
     "output_type": "stream",
     "text": [
      "0    9600\n",
      "1    9240\n",
      "2     222\n",
      "3     111\n",
      "4     223\n",
      "dtype: int64\n"
     ]
    }
   ],
   "execution_count": 63
  },
  {
   "metadata": {
    "ExecuteTime": {
     "end_time": "2024-05-06T06:13:40.389887Z",
     "start_time": "2024-05-06T06:13:40.387372Z"
    }
   },
   "cell_type": "code",
   "source": [
    "a = [1,2,3]\n",
    "a"
   ],
   "id": "9631c094db468224",
   "outputs": [
    {
     "data": {
      "text/plain": [
       "[1, 2, 3]"
      ]
     },
     "execution_count": 67,
     "metadata": {},
     "output_type": "execute_result"
    }
   ],
   "execution_count": 67
  },
  {
   "metadata": {
    "ExecuteTime": {
     "end_time": "2024-05-06T06:22:38.678071Z",
     "start_time": "2024-05-06T06:22:38.673080Z"
    }
   },
   "cell_type": "code",
   "source": [
    "from pandas import Series, DataFrame\n",
    "\n",
    "raw_data = {'col0': [1, 2, 3, 4],\n",
    "            'col1': [10, 20, 30, 40],\n",
    "            'col2': [100, 200, 300, 400]}\n",
    "\n",
    "data = DataFrame(raw_data)\n",
    "print(data)\n",
    "\n",
    "data['col0']"
   ],
   "id": "183a76889745a7e9",
   "outputs": [
    {
     "name": "stdout",
     "output_type": "stream",
     "text": [
      "   col0  col1  col2\n",
      "0     1    10   100\n",
      "1     2    20   200\n",
      "2     3    30   300\n",
      "3     4    40   400\n"
     ]
    },
    {
     "data": {
      "text/plain": [
       "0    1\n",
       "1    2\n",
       "2    3\n",
       "3    4\n",
       "Name: col0, dtype: int64"
      ]
     },
     "execution_count": 69,
     "metadata": {},
     "output_type": "execute_result"
    }
   ],
   "execution_count": 69
  },
  {
   "metadata": {
    "ExecuteTime": {
     "end_time": "2024-05-06T07:04:58.159581Z",
     "start_time": "2024-05-06T07:04:57.958163Z"
    }
   },
   "cell_type": "code",
   "source": [
    "import FinanceDataReader as fdr\n",
    "import datetime\n",
    "\n",
    "start = datetime.datetime(2016, 2, 19)\n",
    "end = datetime.datetime(2016, 3, 4)\n",
    "\n",
    "stock = fdr.DataReader('005930')\n",
    "stock #.info()"
   ],
   "id": "421e2cdecd83de44",
   "outputs": [
    {
     "data": {
      "text/plain": [
       "             Open   High    Low  Close    Volume    Change\n",
       "Date                                                      \n",
       "2000-01-13   5600   5740   5560   5710    823830       NaN\n",
       "2000-01-14   5720   5880   5680   5830    987576  0.021016\n",
       "2000-01-17   6000   6180   5920   6100   1270138  0.046312\n",
       "2000-01-18   6160   6160   5980   6100    905231  0.000000\n",
       "2000-01-19   6000   6040   5960   5960    804159 -0.022951\n",
       "...           ...    ...    ...    ...       ...       ...\n",
       "2024-04-26  77800  77900  76500  76700  12755629  0.005242\n",
       "2024-04-29  77400  77600  76200  76700  14664474  0.000000\n",
       "2024-04-30  77000  78500  76600  77500  19007007  0.010430\n",
       "2024-05-02  77600  78600  77300  78000  18900640  0.006452\n",
       "2024-05-03  79000  79000  77500  77600  13056919 -0.005128\n",
       "\n",
       "[6000 rows x 6 columns]"
      ],
      "text/html": [
       "<div>\n",
       "<style scoped>\n",
       "    .dataframe tbody tr th:only-of-type {\n",
       "        vertical-align: middle;\n",
       "    }\n",
       "\n",
       "    .dataframe tbody tr th {\n",
       "        vertical-align: top;\n",
       "    }\n",
       "\n",
       "    .dataframe thead th {\n",
       "        text-align: right;\n",
       "    }\n",
       "</style>\n",
       "<table border=\"1\" class=\"dataframe\">\n",
       "  <thead>\n",
       "    <tr style=\"text-align: right;\">\n",
       "      <th></th>\n",
       "      <th>Open</th>\n",
       "      <th>High</th>\n",
       "      <th>Low</th>\n",
       "      <th>Close</th>\n",
       "      <th>Volume</th>\n",
       "      <th>Change</th>\n",
       "    </tr>\n",
       "    <tr>\n",
       "      <th>Date</th>\n",
       "      <th></th>\n",
       "      <th></th>\n",
       "      <th></th>\n",
       "      <th></th>\n",
       "      <th></th>\n",
       "      <th></th>\n",
       "    </tr>\n",
       "  </thead>\n",
       "  <tbody>\n",
       "    <tr>\n",
       "      <th>2000-01-13</th>\n",
       "      <td>5600</td>\n",
       "      <td>5740</td>\n",
       "      <td>5560</td>\n",
       "      <td>5710</td>\n",
       "      <td>823830</td>\n",
       "      <td>NaN</td>\n",
       "    </tr>\n",
       "    <tr>\n",
       "      <th>2000-01-14</th>\n",
       "      <td>5720</td>\n",
       "      <td>5880</td>\n",
       "      <td>5680</td>\n",
       "      <td>5830</td>\n",
       "      <td>987576</td>\n",
       "      <td>0.021016</td>\n",
       "    </tr>\n",
       "    <tr>\n",
       "      <th>2000-01-17</th>\n",
       "      <td>6000</td>\n",
       "      <td>6180</td>\n",
       "      <td>5920</td>\n",
       "      <td>6100</td>\n",
       "      <td>1270138</td>\n",
       "      <td>0.046312</td>\n",
       "    </tr>\n",
       "    <tr>\n",
       "      <th>2000-01-18</th>\n",
       "      <td>6160</td>\n",
       "      <td>6160</td>\n",
       "      <td>5980</td>\n",
       "      <td>6100</td>\n",
       "      <td>905231</td>\n",
       "      <td>0.000000</td>\n",
       "    </tr>\n",
       "    <tr>\n",
       "      <th>2000-01-19</th>\n",
       "      <td>6000</td>\n",
       "      <td>6040</td>\n",
       "      <td>5960</td>\n",
       "      <td>5960</td>\n",
       "      <td>804159</td>\n",
       "      <td>-0.022951</td>\n",
       "    </tr>\n",
       "    <tr>\n",
       "      <th>...</th>\n",
       "      <td>...</td>\n",
       "      <td>...</td>\n",
       "      <td>...</td>\n",
       "      <td>...</td>\n",
       "      <td>...</td>\n",
       "      <td>...</td>\n",
       "    </tr>\n",
       "    <tr>\n",
       "      <th>2024-04-26</th>\n",
       "      <td>77800</td>\n",
       "      <td>77900</td>\n",
       "      <td>76500</td>\n",
       "      <td>76700</td>\n",
       "      <td>12755629</td>\n",
       "      <td>0.005242</td>\n",
       "    </tr>\n",
       "    <tr>\n",
       "      <th>2024-04-29</th>\n",
       "      <td>77400</td>\n",
       "      <td>77600</td>\n",
       "      <td>76200</td>\n",
       "      <td>76700</td>\n",
       "      <td>14664474</td>\n",
       "      <td>0.000000</td>\n",
       "    </tr>\n",
       "    <tr>\n",
       "      <th>2024-04-30</th>\n",
       "      <td>77000</td>\n",
       "      <td>78500</td>\n",
       "      <td>76600</td>\n",
       "      <td>77500</td>\n",
       "      <td>19007007</td>\n",
       "      <td>0.010430</td>\n",
       "    </tr>\n",
       "    <tr>\n",
       "      <th>2024-05-02</th>\n",
       "      <td>77600</td>\n",
       "      <td>78600</td>\n",
       "      <td>77300</td>\n",
       "      <td>78000</td>\n",
       "      <td>18900640</td>\n",
       "      <td>0.006452</td>\n",
       "    </tr>\n",
       "    <tr>\n",
       "      <th>2024-05-03</th>\n",
       "      <td>79000</td>\n",
       "      <td>79000</td>\n",
       "      <td>77500</td>\n",
       "      <td>77600</td>\n",
       "      <td>13056919</td>\n",
       "      <td>-0.005128</td>\n",
       "    </tr>\n",
       "  </tbody>\n",
       "</table>\n",
       "<p>6000 rows × 6 columns</p>\n",
       "</div>"
      ]
     },
     "execution_count": 87,
     "metadata": {},
     "output_type": "execute_result"
    }
   ],
   "execution_count": 87
  },
  {
   "metadata": {
    "ExecuteTime": {
     "end_time": "2024-05-06T06:53:07.802128Z",
     "start_time": "2024-05-06T06:53:07.625616Z"
    }
   },
   "cell_type": "code",
   "source": [
    "import matplotlib.pyplot as plt\n",
    "\n",
    "plt.plot(stock.index, stock['Close'])\n",
    "plt.show()"
   ],
   "id": "b1d48aaaea07bbf",
   "outputs": [
    {
     "data": {
      "text/plain": [
       "<Figure size 640x480 with 1 Axes>"
      ],
      "image/png": "[encoded data removed]"
     },
     "metadata": {},
     "output_type": "display_data"
    }
   ],
   "execution_count": 85
  },
  {
   "metadata": {
    "ExecuteTime": {
     "end_time": "2024-05-06T07:07:07.682879Z",
     "start_time": "2024-05-06T07:07:07.671749Z"
    }
   },
   "cell_type": "code",
   "source": "stock['Close'].rolling(window=5).mean()",
   "id": "4009421c7fa29504",
   "outputs": [
    {
     "data": {
      "text/plain": [
       "Date\n",
       "2000-01-13        NaN\n",
       "2000-01-14        NaN\n",
       "2000-01-17        NaN\n",
       "2000-01-18        NaN\n",
       "2000-01-19     5940.0\n",
       "               ...   \n",
       "2024-04-26    76640.0\n",
       "2024-04-29    76760.0\n",
       "2024-04-30    77160.0\n",
       "2024-05-02    77040.0\n",
       "2024-05-03    77300.0\n",
       "Name: Close, Length: 6000, dtype: float64"
      ]
     },
     "execution_count": 88,
     "metadata": {},
     "output_type": "execute_result"
    }
   ],
   "execution_count": 88
  },
  {
   "metadata": {
    "ExecuteTime": {
     "end_time": "2024-05-06T07:16:44.823503Z",
     "start_time": "2024-05-06T07:16:44.814201Z"
    }
   },
   "cell_type": "code",
   "source": [
    "ma20 = stock['Close'].rolling(window=20).mean()\n",
    "ma60 = stock['Close'].rolling(window=60).mean()\n",
    "ma120 = stock['Close'].rolling(window=120).mean()\n",
    "\n",
    "# stock.insert(len(stock.columns), 'MA-20', ma20)\n",
    "# stock.insert(len(stock.columns), 'MA-60', ma60)\n",
    "# stock.insert(len(stock.columns), 'MA-120', ma120)\n",
    "\n",
    "stock"
   ],
   "id": "5de28477ead2882c",
   "outputs": [
    {
     "data": {
      "text/plain": [
       "             Open   High    Low  Close    Volume    Change     MA20  \\\n",
       "Date                                                                  \n",
       "2000-01-13   5600   5740   5560   5710    823830       NaN      NaN   \n",
       "2000-01-14   5720   5880   5680   5830    987576  0.021016      NaN   \n",
       "2000-01-17   6000   6180   5920   6100   1270138  0.046312      NaN   \n",
       "2000-01-18   6160   6160   5980   6100    905231  0.000000      NaN   \n",
       "2000-01-19   6000   6040   5960   5960    804159 -0.022951      NaN   \n",
       "...           ...    ...    ...    ...       ...       ...      ...   \n",
       "2024-04-26  77800  77900  76500  76700  12755629  0.005242  81035.0   \n",
       "2024-04-29  77400  77600  76200  76700  14664474  0.000000  80750.0   \n",
       "2024-04-30  77000  78500  76600  77500  19007007  0.010430  80525.0   \n",
       "2024-05-02  77600  78600  77300  78000  18900640  0.006452  80175.0   \n",
       "2024-05-03  79000  79000  77500  77600  13056919 -0.005128  79850.0   \n",
       "\n",
       "                    MA60         MA120    MA-20         MA-60        MA-120  \n",
       "Date                                                                         \n",
       "2000-01-13           NaN           NaN      NaN           NaN           NaN  \n",
       "2000-01-14           NaN           NaN      NaN           NaN           NaN  \n",
       "2000-01-17           NaN           NaN      NaN           NaN           NaN  \n",
       "2000-01-18           NaN           NaN      NaN           NaN           NaN  \n",
       "2000-01-19           NaN           NaN      NaN           NaN           NaN  \n",
       "...                  ...           ...      ...           ...           ...  \n",
       "2024-04-26  76675.000000  74969.166667  81035.0  76675.000000  74969.166667  \n",
       "2024-04-29  76715.000000  75027.500000  80750.0  76715.000000  75027.500000  \n",
       "2024-04-30  76795.000000  75093.333333  80525.0  76795.000000  75093.333333  \n",
       "2024-05-02  76868.333333  75152.500000  80175.0  76868.333333  75152.500000  \n",
       "2024-05-03  76908.333333  75208.333333  79850.0  76908.333333  75208.333333  \n",
       "\n",
       "[6000 rows x 12 columns]"
      ],
      "text/html": [
       "<div>\n",
       "<style scoped>\n",
       "    .dataframe tbody tr th:only-of-type {\n",
       "        vertical-align: middle;\n",
       "    }\n",
       "\n",
       "    .dataframe tbody tr th {\n",
       "        vertical-align: top;\n",
       "    }\n",
       "\n",
       "    .dataframe thead th {\n",
       "        text-align: right;\n",
       "    }\n",
       "</style>\n",
       "<table border=\"1\" class=\"dataframe\">\n",
       "  <thead>\n",
       "    <tr style=\"text-align: right;\">\n",
       "      <th></th>\n",
       "      <th>Open</th>\n",
       "      <th>High</th>\n",
       "      <th>Low</th>\n",
       "      <th>Close</th>\n",
       "      <th>Volume</th>\n",
       "      <th>Change</th>\n",
       "      <th>MA20</th>\n",
       "      <th>MA60</th>\n",
       "      <th>MA120</th>\n",
       "      <th>MA-20</th>\n",
       "      <th>MA-60</th>\n",
       "      <th>MA-120</th>\n",
       "    </tr>\n",
       "    <tr>\n",
       "      <th>Date</th>\n",
       "      <th></th>\n",
       "      <th></th>\n",
       "      <th></th>\n",
       "      <th></th>\n",
       "      <th></th>\n",
       "      <th></th>\n",
       "      <th></th>\n",
       "      <th></th>\n",
       "      <th></th>\n",
       "      <th></th>\n",
       "      <th></th>\n",
       "      <th></th>\n",
       "    </tr>\n",
       "  </thead>\n",
       "  <tbody>\n",
       "    <tr>\n",
       "      <th>2000-01-13</th>\n",
       "      <td>5600</td>\n",
       "      <td>5740</td>\n",
       "      <td>5560</td>\n",
       "      <td>5710</td>\n",
       "      <td>823830</td>\n",
       "      <td>NaN</td>\n",
       "      <td>NaN</td>\n",
       "      <td>NaN</td>\n",
       "      <td>NaN</td>\n",
       "      <td>NaN</td>\n",
       "      <td>NaN</td>\n",
       "      <td>NaN</td>\n",
       "    </tr>\n",
       "    <tr>\n",
       "      <th>2000-01-14</th>\n",
       "      <td>5720</td>\n",
       "      <td>5880</td>\n",
       "      <td>5680</td>\n",
       "      <td>5830</td>\n",
       "      <td>987576</td>\n",
       "      <td>0.021016</td>\n",
       "      <td>NaN</td>\n",
       "      <td>NaN</td>\n",
       "      <td>NaN</td>\n",
       "      <td>NaN</td>\n",
       "      <td>NaN</td>\n",
       "      <td>NaN</td>\n",
       "    </tr>\n",
       "    <tr>\n",
       "      <th>2000-01-17</th>\n",
       "      <td>6000</td>\n",
       "      <td>6180</td>\n",
       "      <td>5920</td>\n",
       "      <td>6100</td>\n",
       "      <td>1270138</td>\n",
       "      <td>0.046312</td>\n",
       "      <td>NaN</td>\n",
       "      <td>NaN</td>\n",
       "      <td>NaN</td>\n",
       "      <td>NaN</td>\n",
       "      <td>NaN</td>\n",
       "      <td>NaN</td>\n",
       "    </tr>\n",
       "    <tr>\n",
       "      <th>2000-01-18</th>\n",
       "      <td>6160</td>\n",
       "      <td>6160</td>\n",
       "      <td>5980</td>\n",
       "      <td>6100</td>\n",
       "      <td>905231</td>\n",
       "      <td>0.000000</td>\n",
       "      <td>NaN</td>\n",
       "      <td>NaN</td>\n",
       "      <td>NaN</td>\n",
       "      <td>NaN</td>\n",
       "      <td>NaN</td>\n",
       "      <td>NaN</td>\n",
       "    </tr>\n",
       "    <tr>\n",
       "      <th>2000-01-19</th>\n",
       "      <td>6000</td>\n",
       "      <td>6040</td>\n",
       "      <td>5960</td>\n",
       "      <td>5960</td>\n",
       "      <td>804159</td>\n",
       "      <td>-0.022951</td>\n",
       "      <td>NaN</td>\n",
       "      <td>NaN</td>\n",
       "      <td>NaN</td>\n",
       "      <td>NaN</td>\n",
       "      <td>NaN</td>\n",
       "      <td>NaN</td>\n",
       "    </tr>\n",
       "    <tr>\n",
       "      <th>...</th>\n",
       "      <td>...</td>\n",
       "      <td>...</td>\n",
       "      <td>...</td>\n",
       "      <td>...</td>\n",
       "      <td>...</td>\n",
       "      <td>...</td>\n",
       "      <td>...</td>\n",
       "      <td>...</td>\n",
       "      <td>...</td>\n",
       "      <td>...</td>\n",
       "      <td>...</td>\n",
       "      <td>...</td>\n",
       "    </tr>\n",
       "    <tr>\n",
       "      <th>2024-04-26</th>\n",
       "      <td>77800</td>\n",
       "      <td>77900</td>\n",
       "      <td>76500</td>\n",
       "      <td>76700</td>\n",
       "      <td>12755629</td>\n",
       "      <td>0.005242</td>\n",
       "      <td>81035.0</td>\n",
       "      <td>76675.000000</td>\n",
       "      <td>74969.166667</td>\n",
       "      <td>81035.0</td>\n",
       "      <td>76675.000000</td>\n",
       "      <td>74969.166667</td>\n",
       "    </tr>\n",
       "    <tr>\n",
       "      <th>2024-04-29</th>\n",
       "      <td>77400</td>\n",
       "      <td>77600</td>\n",
       "      <td>76200</td>\n",
       "      <td>76700</td>\n",
       "      <td>14664474</td>\n",
       "      <td>0.000000</td>\n",
       "      <td>80750.0</td>\n",
       "      <td>76715.000000</td>\n",
       "      <td>75027.500000</td>\n",
       "      <td>80750.0</td>\n",
       "      <td>76715.000000</td>\n",
       "      <td>75027.500000</td>\n",
       "    </tr>\n",
       "    <tr>\n",
       "      <th>2024-04-30</th>\n",
       "      <td>77000</td>\n",
       "      <td>78500</td>\n",
       "      <td>76600</td>\n",
       "      <td>77500</td>\n",
       "      <td>19007007</td>\n",
       "      <td>0.010430</td>\n",
       "      <td>80525.0</td>\n",
       "      <td>76795.000000</td>\n",
       "      <td>75093.333333</td>\n",
       "      <td>80525.0</td>\n",
       "      <td>76795.000000</td>\n",
       "      <td>75093.333333</td>\n",
       "    </tr>\n",
       "    <tr>\n",
       "      <th>2024-05-02</th>\n",
       "      <td>77600</td>\n",
       "      <td>78600</td>\n",
       "      <td>77300</td>\n",
       "      <td>78000</td>\n",
       "      <td>18900640</td>\n",
       "      <td>0.006452</td>\n",
       "      <td>80175.0</td>\n",
       "      <td>76868.333333</td>\n",
       "      <td>75152.500000</td>\n",
       "      <td>80175.0</td>\n",
       "      <td>76868.333333</td>\n",
       "      <td>75152.500000</td>\n",
       "    </tr>\n",
       "    <tr>\n",
       "      <th>2024-05-03</th>\n",
       "      <td>79000</td>\n",
       "      <td>79000</td>\n",
       "      <td>77500</td>\n",
       "      <td>77600</td>\n",
       "      <td>13056919</td>\n",
       "      <td>-0.005128</td>\n",
       "      <td>79850.0</td>\n",
       "      <td>76908.333333</td>\n",
       "      <td>75208.333333</td>\n",
       "      <td>79850.0</td>\n",
       "      <td>76908.333333</td>\n",
       "      <td>75208.333333</td>\n",
       "    </tr>\n",
       "  </tbody>\n",
       "</table>\n",
       "<p>6000 rows × 12 columns</p>\n",
       "</div>"
      ]
     },
     "execution_count": 97,
     "metadata": {},
     "output_type": "execute_result"
    }
   ],
   "execution_count": 97
  },
  {
   "metadata": {
    "ExecuteTime": {
     "end_time": "2024-05-06T07:21:00.347432Z",
     "start_time": "2024-05-06T07:21:00.132251Z"
    }
   },
   "cell_type": "code",
   "source": [
    "import matplotlib.pyplot as plt\n",
    "\n",
    "plt.plot(stock.index, stock['Close'], label='Close')\n",
    "plt.plot(stock.index, stock['MA20'], label=\"MA20\")\n",
    "plt.plot(stock.index, stock['MA60'], label=\"MA60\")\n",
    "plt.plot(stock.index, stock['MA120'], label=\"MA120\")\n",
    "plt.legend(loc='best')\n",
    "plt.grid()"
   ],
   "id": "13b295eef14c212f",
   "outputs": [
    {
     "data": {
      "text/plain": [
       "<Figure size 640x480 with 1 Axes>"
      ],
      "image/png": "[encoded data removed]"
     },
     "metadata": {},
     "output_type": "display_data"
    }
   ],
   "execution_count": 103
  },
  {
   "metadata": {
    "ExecuteTime": {
     "end_time": "2024-06-25T01:13:21.906063Z",
     "start_time": "2024-06-25T01:13:21.903210Z"
    }
   },
   "cell_type": "code",
   "source": [
    "class Fridge:\n",
    "    def __init__(self):\n",
    "        self.isOpened = False\n",
    "        self.foods = []\n",
    "\n",
    "    def open(self):\n",
    "        self.isOpened = True\n",
    "        print('냉장고 문을 열었어요...')\n",
    "\n",
    "    def put(self, thing):\n",
    "        if self.isOpened:\n",
    "            self.foods.append(thing)\n",
    "            print('냉장고 속에 음식이 들어갔네...')\n",
    "        else:\n",
    "            print('냉장고 문이 닫혀있어서 못넣겠어요...')\n",
    "\n",
    "    def close(self):\n",
    "        self.isOpened = False\n",
    "        print('냉장고 문을 닫았어요...')\n",
    "\n",
    "class Food:\n",
    "    pass"
   ],
   "id": "d1460d5f146f8d8a",
   "outputs": [],
   "execution_count": 1
  },
  {
   "metadata": {
    "ExecuteTime": {
     "end_time": "2024-06-25T01:15:10.596771Z",
     "start_time": "2024-06-25T01:15:10.593049Z"
    }
   },
   "cell_type": "code",
   "source": [
    "# import fridge\n",
    "f = Fridge()\n",
    "apple = Food()\n",
    "elephant = Food()\n",
    "\n",
    "f.open()\n",
    "f.put(elephant)\n",
    "f.close()"
   ],
   "id": "9a5904fe961104ba",
   "outputs": [
    {
     "name": "stdout",
     "output_type": "stream",
     "text": [
      "냉장고 문을 열었어요...\n",
      "냉장고 속에 음식이 들어갔네...\n",
      "냉장고 문을 닫았어요...\n"
     ]
    }
   ],
   "execution_count": 3
  },
  {
   "metadata": {
    "ExecuteTime": {
     "end_time": "2024-06-25T01:52:02.551190Z",
     "start_time": "2024-06-25T01:52:02.547912Z"
    }
   },
   "cell_type": "code",
   "source": [
    "class Book:\n",
    "\n",
    "    def setData(self, title, price, author):\n",
    "        self.title = title\n",
    "        self.price = price\n",
    "        self.author = author\n",
    "\n",
    "    def printData(self):\n",
    "        print('제목 : ', self.title)\n",
    "        print('가격 : ', self.price)\n",
    "        print('저자 : ', self.author)\n",
    "\n",
    "    def __init__(self, title):\n",
    "        self.setData(title, -1, \"Unknown\")\n",
    "        print('책 객체를 새로 만들었어요~')\n",
    "        \n",
    "    def __del__(self):\n",
    "        print(\"destroing ..\")\n",
    "        \n",
    "    def __repr__(self):\n",
    "        return self.title\n",
    "        \n",
    "b = Book('Ahehe')\n",
    "print(b)"
   ],
   "id": "b182cc2b0f548aa1",
   "outputs": [
    {
     "name": "stdout",
     "output_type": "stream",
     "text": [
      "책 객체를 새로 만들었어요~\n",
      "destroing ..\n",
      "Ahehe\n"
     ]
    }
   ],
   "execution_count": 7
  },
  {
   "metadata": {
    "ExecuteTime": {
     "end_time": "2024-06-25T02:32:41.166985Z",
     "start_time": "2024-06-25T02:32:41.162057Z"
    }
   },
   "cell_type": "code",
   "source": [
    "# shape.py\n",
    "\n",
    "class Shape:\n",
    "    area = 0\n",
    "    def __init__(self, val):\n",
    "        self.area = val\n",
    "    def __add__(self, other):\n",
    "        return self.area + other.area\n",
    "\n",
    "a1 = Shape(10)\n",
    "a2 = Shape(23)\n",
    "\n",
    "print(a1 + a2)"
   ],
   "id": "d352a7061f82d936",
   "outputs": [
    {
     "name": "stdout",
     "output_type": "stream",
     "text": [
      "33\n"
     ]
    }
   ],
   "execution_count": 8
  },
  {
   "metadata": {
    "ExecuteTime": {
     "end_time": "2024-06-25T02:41:27.198438Z",
     "start_time": "2024-06-25T02:41:27.195871Z"
    }
   },
   "cell_type": "code",
   "source": [
    "def f(a, b):\n",
    "    try: \n",
    "        return a / b\n",
    "    except:\n",
    "        return 'Cannot divide by zero'\n",
    "        \n",
    "        \n",
    "        \n",
    "print(f(10, 0))"
   ],
   "id": "fb80e1e592291e70",
   "outputs": [
    {
     "name": "stdout",
     "output_type": "stream",
     "text": [
      "Cannot divide by zero\n"
     ]
    }
   ],
   "execution_count": 11
  },
  {
   "metadata": {
    "ExecuteTime": {
     "end_time": "2024-06-25T03:58:27.303332Z",
     "start_time": "2024-06-25T03:58:27.301230Z"
    }
   },
   "cell_type": "code",
   "source": [
    "from time import process_time\n",
    "\n",
    "print('->', process_time())"
   ],
   "id": "9abf99d67c50203c",
   "outputs": [
    {
     "name": "stdout",
     "output_type": "stream",
     "text": [
      "-> 8.547901\n"
     ]
    }
   ],
   "execution_count": 14
  },
  {
   "metadata": {},
   "cell_type": "code",
   "outputs": [],
   "execution_count": null,
   "source": "",
   "id": "5363e29e6678a191"
  }
 ],
 "metadata": {
  "kernelspec": {
   "display_name": "Python 3",
   "language": "python",
   "name": "python3"
  },
  "language_info": {
   "codemirror_mode": {
    "name": "ipython",
    "version": 2
   },
   "file_extension": ".py",
   "mimetype": "text/x-python",
   "name": "python",
   "nbconvert_exporter": "python",
   "pygments_lexer": "ipython2",
   "version": "2.7.6"
  }
 },
 "nbformat": 4,
 "nbformat_minor": 5
}
